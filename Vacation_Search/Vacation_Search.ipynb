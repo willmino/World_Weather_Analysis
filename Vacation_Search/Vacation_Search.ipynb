{
 "cells": [
  {
   "cell_type": "markdown",
   "metadata": {},
   "source": [
    "# Deliverable 2. Create a Customer Travel Destinations Map\n",
    "\n",
    "----\n",
    "\n",
    "1. Create a folder called `Vacation_Search` to save all the files related with this deliverable.\n",
    "\n",
    "2. Download the `Vacation_Search_starter_code.ipynb` Jupyter notebook,save it into your `Vacation_Search folder`, and rename it as `Vacation_Search.ipynb`.\n",
    "\n",
    "3. In the `Vacation_Search.ipynb` file, ensure that the dependencies and the Geoapify API key is imported correctly.\n",
    "\n",
    "4. From the `Weather_Database` folder you created in the \"Deliverable 1,\" import the `WeatherPy_Database.csv` file as a Pandas DataFrame named `city_data_df`.\n",
    "\n",
    "5. Write two input statements that prompt the user to enter their minimum and maximum temperature criteria for their vacation.\n",
    "\n",
    "6. Create a new Pandas DataFrame by using the `loc` Pandas method to filter the `city_data_df` DataFrame for temperature criteria  collected. Name the DataFrame as `preferred_cities_df`.\n",
    "\n",
    "7. Create a new Pandas DataFrame named `clean_travel_cities` by using the Pandas `dropna` function on the `preferred_cities_df` to drop any empty rows.\n",
    "\n",
    "8. Use the `copy` Pandas function to create a new DataFrame, called `hotel_df`, by copying the following columns from the `clean_travel_cities` DataFrame: \"City\", \"Country\", \"Max Temp\", \"Current Description\", \"Lat\", \"Lng\".\n",
    "\n",
    "9. Add a new empty column named `Hotel Name` to the `hotel_df` DataFrame.\n",
    "\n",
    "10. Review the hotel search parameters provided. These parameters are the same we used in this module; you'll use them to search for a hotel for each city.\n",
    "\n",
    "11. Use a for loop to iterate through the `hotel_df` DataFrame. Retrieve the latitude and longitude of each city and use the Geoapify API to find the nearest hotel based on the search parameters provided, then add the hotel name to the `hotel_df` DataFrame. If a hotel isn't found, set the hotel name as \"No hotel found\".\n",
    "\n",
    "12. Drop any rows in the `hotel_df` DataFrame where a hotel name is not found and store the resulting data into a new DataFrame named `clean_hotel_df`.\n",
    "\n",
    "13. Create an CSV file to store the `clean_hotel_df` DataFrame as `WeatherPy_vacation.csv` in the Vacation_Search folder.\n",
    "\n",
    "14. Use GeoViews to create a map that displays a point for every city in the `clean_hotel_df` DataFrame. In the point for each city add:\n",
    "\n",
    "    * The city name\n",
    "    \n",
    "    * The country code\n",
    "    \n",
    "    * The weather description\n",
    "    \n",
    "    * The point's size should be the maximum temperature for the city\n",
    "\n",
    "15. Take a screenshot of your map and save it to the `Vacation_Search` folder as `WeatherPy_vacation_map.png`.\n",
    "\n",
    "---"
   ]
  },
  {
   "cell_type": "markdown",
   "metadata": {},
   "source": [
    "## Ensure that the dependencies and the Geoapify API key is imported correctly"
   ]
  },
  {
   "cell_type": "code",
   "execution_count": null,
   "metadata": {},
   "outputs": [],
   "source": [
    "# Dependencies and Setup\n",
    "import hvplot.pandas\n",
    "import pandas as pd\n",
    "import requests\n",
    "\n",
    "# Turn off warning messages\n",
    "import warnings\n",
    "warnings.filterwarnings(\"ignore\")\n",
    "\n",
    "# Import API key\n",
    "from config import geoapify_key"
   ]
  },
  {
   "cell_type": "markdown",
   "metadata": {},
   "source": [
    "## From the `Weather_Database` folder you created in the \"Deliverable 1,\" import the `WeatherPy_Database.csv` file as a Pandas DataFrame named `city_data_df`"
   ]
  },
  {
   "cell_type": "code",
   "execution_count": null,
   "metadata": {},
   "outputs": [],
   "source": [
    "# Import the WeatherPy_database.csv file. \n",
    "file = pd.read_csv(\"../Weather_Database/WeatherPy_Database.csv\")\n",
    "\n",
    "city_data_df = pd.DataFrame(file)\n",
    "\n",
    "# Display sample data\n",
    "city_data_df.head()\n",
    "\n",
    "del city_data_df[\"City_ID\"]\n",
    "\n",
    "city_data_df"
   ]
  },
  {
   "cell_type": "markdown",
   "metadata": {},
   "source": [
    "## Write two input statements that prompt the user to enter their minimum and maximum temperature criteria for their vacation"
   ]
  },
  {
   "cell_type": "code",
   "execution_count": null,
   "metadata": {},
   "outputs": [],
   "source": [
    "# Prompt the user to enter minimum and maximum temperature criteria.\n",
    "\n",
    "min_temp = float(input(\"What is the minimum temperature you would like for your trip? \"))\n",
    "max_temp = float(input(\"What is the maximum temperature you would like for your trip? \"))"
   ]
  },
  {
   "cell_type": "markdown",
   "metadata": {},
   "source": [
    "## Create a new Pandas DataFrame by using the `loc` Pandas method to filter the `city_data_df` DataFrame for temperature criteria  collected. Name the DataFrame as `preferred_cities_df`"
   ]
  },
  {
   "cell_type": "code",
   "execution_count": null,
   "metadata": {},
   "outputs": [],
   "source": [
    "# Filter the city_data_df DataFrame to find the cities that fit the criteria using the loc method.\n",
    "\n",
    "preferred_cities_df = city_data_df.loc[\n",
    "    (city_data_df[\"Max Temp\"] <= max_temp) & (city_data_df[\"Max Temp\"] >= min_temp)\n",
    "]\n",
    "\n",
    "\n",
    "# Display sample data\n",
    "preferred_cities_df.head()"
   ]
  },
  {
   "cell_type": "markdown",
   "metadata": {},
   "source": [
    "## Create a new Pandas DataFrame named `clean_travel_cities` by using the Pandas `dropna` function on the `preferred_cities_df` to drop any empty rows"
   ]
  },
  {
   "cell_type": "code",
   "execution_count": null,
   "metadata": {},
   "outputs": [],
   "source": [
    "# Drop any empty rows and create a new DataFrame that doesn’t have empty rows.\n",
    "\n",
    "\n",
    "clean_travel_cities= preferred_cities_df.dropna()\n",
    "\n",
    "# Display sample data\n",
    "clean_travel_cities"
   ]
  },
  {
   "cell_type": "markdown",
   "metadata": {},
   "source": [
    "## Use the `copy` Pandas function to create a new DataFrame, called `hotel_df`, by copying the following columns from the `clean_travel_cities` DataFrame: \"City\", \"Country\", \"Max Temp\", \"Current Description\", \"Lat\", \"Lng\""
   ]
  },
  {
   "cell_type": "code",
   "execution_count": null,
   "metadata": {},
   "outputs": [],
   "source": [
    "# Create DataFrame called hotel_df to store hotel names along with city, country, max temp, and coordinates.\n",
    "\n",
    "hotel_df = clean_travel_cities[[\"City\",\"Country\",\"Max Temp\",\"Current Description\",\"Lat\",\"Lng\"]].copy()\n",
    "\n",
    "hotel_df.head()"
   ]
  },
  {
   "cell_type": "markdown",
   "metadata": {},
   "source": [
    "## Add a new empty column named `Hotel Name` to the `hotel_df` DataFrame"
   ]
  },
  {
   "cell_type": "code",
   "execution_count": null,
   "metadata": {},
   "outputs": [],
   "source": [
    "# Create a new column \"Hotel Name\".\n",
    "\n",
    "hotel_df[\"Hotel Name\"] = \"\"\n",
    "\n",
    "# Display sample data\n",
    "hotel_df.head()"
   ]
  },
  {
   "cell_type": "markdown",
   "metadata": {},
   "source": [
    "## Review the hotel search parameters provided. These parameters are the same we used in this module; you'll use them to search for a hotel for each city"
   ]
  },
  {
   "cell_type": "code",
   "execution_count": null,
   "metadata": {},
   "outputs": [],
   "source": [
    "# Set parameters to search for a hotel\n",
    "radius = 5000\n",
    "params = {\n",
    "    \"categories\":\"accommodation.hotel\",\n",
    "    \"apiKey\": geoapify_key,\n",
    "    \"limit\":20\n",
    "}"
   ]
  },
  {
   "cell_type": "markdown",
   "metadata": {},
   "source": [
    "## Use a for loop to iterate through the `hotel_df` DataFrame. Retrieve the latitude and longitude of each city and use the Geoapify API to find the nearest hotel based on the search parameters provided, then add the hotel name to the `hotel_df` DataFrame. If a hotel isn't found, set the hotel name as \"No hotel found\""
   ]
  },
  {
   "cell_type": "code",
   "execution_count": null,
   "metadata": {},
   "outputs": [],
   "source": [
    "# Iterate through the hotel DataFrame\n",
    "\n",
    "\n",
    "\n",
    "# Print a message to follow up the hotel search\n",
    "print(\"Starting hotel search\")\n",
    "\n",
    "# Iterate through the hotel_df DataFrame\n",
    "for index, row in hotel_df.iterrows():\n",
    "    # Get latitude and longitude from DataFrame.\n",
    "    latitude = hotel_df.loc[index,\"Lat\"]\n",
    "    longitude = hotel_df.loc[index,\"Lng\"]\n",
    "    \n",
    "    # Add the current city's latitude and longitude to the params dictionary\n",
    "    params[\"filter\"] = f\"circle:{longitude},{latitude},{radius}\"\n",
    "    params[\"bias\"] = f\"proximity:{longitude},{latitude}\"\n",
    "    \n",
    "    # Set up the base URL for the Geoapify Places API.\n",
    "    base_url = \"https://api.geoapify.com/v2/places\"\n",
    "    \n",
    "    # Make request and retrieve the JSON data by using the params dictionaty\n",
    "    name_address = requests.get(base_url, params=params)\n",
    "    \n",
    "    # Convert the API response to JSON format\n",
    "    name_address = name_address.json()\n",
    "    \n",
    "    # Get the first hotel from the results and store the name, if a hotel isn't found set the hotel name as \"No hotel found\".\n",
    "    try:\n",
    "        hotel_df.loc[index, \"Hotel Name\"] = name_address[\"features\"][0][\"properties\"][\"name\"]\n",
    "    except (KeyError, IndexError):\n",
    "        # If no hotel is found, set the hotel name as \"No hotel found\".\n",
    "        hotel_df.loc[index, \"Hotel Name\"] = \"No hotel found\"\n",
    "        \n",
    "    # Log the search results\n",
    "    print(f\"{hotel_df.loc[index, 'City']} - nearest hotel: {hotel_df.loc[index, 'Hotel Name']}\")\n",
    "\n",
    "# Display sample data\n",
    "hotel_df"
   ]
  },
  {
   "cell_type": "markdown",
   "metadata": {},
   "source": [
    "## Drop any rows in the `hotel_df` DataFrame where a hotel name is not found and store the resulting data into a new DataFrame named `clean_hotel_df`"
   ]
  },
  {
   "cell_type": "code",
   "execution_count": null,
   "metadata": {},
   "outputs": [],
   "source": [
    "# Drop the rows where there is no Hotel Name.\n",
    "\n",
    "#for row in hotel_df.iterrows():\n",
    "    #if hotel_df[\"Hotel Name\"] == \"No hotel found\":\n",
    "\n",
    "\n",
    "\n",
    "clean_hotel_df = hotel_df[hotel_df[\"Hotel Name\"] != \"No hotel found\"]\n",
    "\n"
   ]
  },
  {
   "cell_type": "code",
   "execution_count": 21,
   "metadata": {},
   "outputs": [
    {
     "data": {
      "text/html": [
       "<div>\n",
       "<style scoped>\n",
       "    .dataframe tbody tr th:only-of-type {\n",
       "        vertical-align: middle;\n",
       "    }\n",
       "\n",
       "    .dataframe tbody tr th {\n",
       "        vertical-align: top;\n",
       "    }\n",
       "\n",
       "    .dataframe thead th {\n",
       "        text-align: right;\n",
       "    }\n",
       "</style>\n",
       "<table border=\"1\" class=\"dataframe\">\n",
       "  <thead>\n",
       "    <tr style=\"text-align: right;\">\n",
       "      <th></th>\n",
       "      <th>City</th>\n",
       "      <th>Country</th>\n",
       "      <th>Max Temp</th>\n",
       "      <th>Current Description</th>\n",
       "      <th>Lat</th>\n",
       "      <th>Lng</th>\n",
       "      <th>Hotel Name</th>\n",
       "    </tr>\n",
       "  </thead>\n",
       "  <tbody>\n",
       "    <tr>\n",
       "      <th>0</th>\n",
       "      <td>Rikitea</td>\n",
       "      <td>PF</td>\n",
       "      <td>77.29</td>\n",
       "      <td>overcast clouds</td>\n",
       "      <td>-23.1203</td>\n",
       "      <td>-134.9692</td>\n",
       "      <td>Chez Bianca &amp; Benoit</td>\n",
       "    </tr>\n",
       "    <tr>\n",
       "      <th>1</th>\n",
       "      <td>Feijo</td>\n",
       "      <td>BR</td>\n",
       "      <td>83.59</td>\n",
       "      <td>scattered clouds</td>\n",
       "      <td>-8.1642</td>\n",
       "      <td>-70.3536</td>\n",
       "      <td>Hotel JOAFRAN</td>\n",
       "    </tr>\n",
       "    <tr>\n",
       "      <th>2</th>\n",
       "      <td>Moron</td>\n",
       "      <td>AR</td>\n",
       "      <td>86.97</td>\n",
       "      <td>overcast clouds</td>\n",
       "      <td>-34.6534</td>\n",
       "      <td>-58.6198</td>\n",
       "      <td>La Esquina</td>\n",
       "    </tr>\n",
       "    <tr>\n",
       "      <th>3</th>\n",
       "      <td>Hilo</td>\n",
       "      <td>US</td>\n",
       "      <td>78.28</td>\n",
       "      <td>overcast clouds</td>\n",
       "      <td>19.7297</td>\n",
       "      <td>-155.0900</td>\n",
       "      <td>Dolphin Bay Hotel</td>\n",
       "    </tr>\n",
       "    <tr>\n",
       "      <th>4</th>\n",
       "      <td>Cayenne</td>\n",
       "      <td>GF</td>\n",
       "      <td>84.24</td>\n",
       "      <td>scattered clouds</td>\n",
       "      <td>4.9333</td>\n",
       "      <td>-52.3333</td>\n",
       "      <td>Central Hôtel</td>\n",
       "    </tr>\n",
       "    <tr>\n",
       "      <th>...</th>\n",
       "      <td>...</td>\n",
       "      <td>...</td>\n",
       "      <td>...</td>\n",
       "      <td>...</td>\n",
       "      <td>...</td>\n",
       "      <td>...</td>\n",
       "      <td>...</td>\n",
       "    </tr>\n",
       "    <tr>\n",
       "      <th>141</th>\n",
       "      <td>Biltine</td>\n",
       "      <td>TD</td>\n",
       "      <td>75.04</td>\n",
       "      <td>overcast clouds</td>\n",
       "      <td>14.5333</td>\n",
       "      <td>20.9167</td>\n",
       "      <td>فندق ثلاث نجوم بلتن</td>\n",
       "    </tr>\n",
       "    <tr>\n",
       "      <th>142</th>\n",
       "      <td>Kikwit</td>\n",
       "      <td>CD</td>\n",
       "      <td>72.72</td>\n",
       "      <td>light rain</td>\n",
       "      <td>-5.0410</td>\n",
       "      <td>18.8162</td>\n",
       "      <td>Grand Hôtel de Kikwit</td>\n",
       "    </tr>\n",
       "    <tr>\n",
       "      <th>143</th>\n",
       "      <td>Nicoya</td>\n",
       "      <td>CR</td>\n",
       "      <td>84.15</td>\n",
       "      <td>overcast clouds</td>\n",
       "      <td>10.1483</td>\n",
       "      <td>-85.4520</td>\n",
       "      <td>Hotel marianela</td>\n",
       "    </tr>\n",
       "    <tr>\n",
       "      <th>144</th>\n",
       "      <td>Soyo</td>\n",
       "      <td>AO</td>\n",
       "      <td>79.25</td>\n",
       "      <td>broken clouds</td>\n",
       "      <td>-6.1349</td>\n",
       "      <td>12.3689</td>\n",
       "      <td>Hotel Maria Teres</td>\n",
       "    </tr>\n",
       "    <tr>\n",
       "      <th>145</th>\n",
       "      <td>Makakilo City</td>\n",
       "      <td>US</td>\n",
       "      <td>73.18</td>\n",
       "      <td>few clouds</td>\n",
       "      <td>21.3469</td>\n",
       "      <td>-158.0858</td>\n",
       "      <td>Embassy Suites by Hilton Oahu Kapolei</td>\n",
       "    </tr>\n",
       "  </tbody>\n",
       "</table>\n",
       "<p>146 rows × 7 columns</p>\n",
       "</div>"
      ],
      "text/plain": [
       "              City Country  Max Temp Current Description      Lat       Lng  \\\n",
       "0          Rikitea      PF     77.29     overcast clouds -23.1203 -134.9692   \n",
       "1            Feijo      BR     83.59    scattered clouds  -8.1642  -70.3536   \n",
       "2            Moron      AR     86.97     overcast clouds -34.6534  -58.6198   \n",
       "3             Hilo      US     78.28     overcast clouds  19.7297 -155.0900   \n",
       "4          Cayenne      GF     84.24    scattered clouds   4.9333  -52.3333   \n",
       "..             ...     ...       ...                 ...      ...       ...   \n",
       "141        Biltine      TD     75.04     overcast clouds  14.5333   20.9167   \n",
       "142         Kikwit      CD     72.72          light rain  -5.0410   18.8162   \n",
       "143         Nicoya      CR     84.15     overcast clouds  10.1483  -85.4520   \n",
       "144           Soyo      AO     79.25       broken clouds  -6.1349   12.3689   \n",
       "145  Makakilo City      US     73.18          few clouds  21.3469 -158.0858   \n",
       "\n",
       "                                Hotel Name  \n",
       "0                     Chez Bianca & Benoit  \n",
       "1                            Hotel JOAFRAN  \n",
       "2                               La Esquina  \n",
       "3                        Dolphin Bay Hotel  \n",
       "4                            Central Hôtel  \n",
       "..                                     ...  \n",
       "141                    فندق ثلاث نجوم بلتن  \n",
       "142                  Grand Hôtel de Kikwit  \n",
       "143                        Hotel marianela  \n",
       "144                      Hotel Maria Teres  \n",
       "145  Embassy Suites by Hilton Oahu Kapolei  \n",
       "\n",
       "[146 rows x 7 columns]"
      ]
     },
     "execution_count": 21,
     "metadata": {},
     "output_type": "execute_result"
    }
   ],
   "source": [
    "clean_hotel_df\n"
   ]
  },
  {
   "cell_type": "markdown",
   "metadata": {},
   "source": [
    "## Create an CSV file to store the `clean_hotel_df` DataFrame as `WeatherPy_vacation.csv` in the `Vacation_Search`` folder"
   ]
  },
  {
   "cell_type": "code",
   "execution_count": null,
   "metadata": {
    "scrolled": true
   },
   "outputs": [],
   "source": [
    "# Create the output File (CSV)\n",
    "output_data_file = \"WeatherPy_vacation.csv\"\n",
    "\n",
    "# Export the City_Data into a csv\n",
    "clean_hotel_df.to_csv(output_data_file)"
   ]
  },
  {
   "cell_type": "markdown",
   "metadata": {},
   "source": [
    "## Use GeoViews to create a map that displays a point for every city in the `clean_hotel_df` DataFrame.\n",
    "\n",
    "In the point for each city add:\n",
    "\n",
    "* The city name\n",
    "* The country code\n",
    "* The weather description\n",
    "* The point's size should be the maximum temperature for the city"
   ]
  },
  {
   "cell_type": "code",
   "execution_count": 14,
   "metadata": {
    "scrolled": false
   },
   "outputs": [
    {
     "data": {},
     "metadata": {},
     "output_type": "display_data"
    },
    {
     "data": {
      "application/vnd.holoviews_exec.v0+json": "",
      "text/html": [
       "<div id='1544'>\n",
       "  <div class=\"bk-root\" id=\"2b21da09-c9b9-4a88-a184-cdc60d9cc11e\" data-root-id=\"1544\"></div>\n",
       "</div>\n",
       "<script type=\"application/javascript\">(function(root) {\n",
       "  function embed_document(root) {\n",
       "    var docs_json = {\"6af68902-38f1-4ad0-9e0b-97147ed87611\":{\"defs\":[{\"extends\":null,\"module\":null,\"name\":\"ReactiveHTML1\",\"overrides\":[],\"properties\":[]},{\"extends\":null,\"module\":null,\"name\":\"FlexBox1\",\"overrides\":[],\"properties\":[{\"default\":\"flex-start\",\"kind\":null,\"name\":\"align_content\"},{\"default\":\"flex-start\",\"kind\":null,\"name\":\"align_items\"},{\"default\":\"row\",\"kind\":null,\"name\":\"flex_direction\"},{\"default\":\"wrap\",\"kind\":null,\"name\":\"flex_wrap\"},{\"default\":\"flex-start\",\"kind\":null,\"name\":\"justify_content\"}]},{\"extends\":null,\"module\":null,\"name\":\"GridStack1\",\"overrides\":[],\"properties\":[{\"default\":\"warn\",\"kind\":null,\"name\":\"mode\"},{\"default\":null,\"kind\":null,\"name\":\"ncols\"},{\"default\":null,\"kind\":null,\"name\":\"nrows\"},{\"default\":true,\"kind\":null,\"name\":\"allow_resize\"},{\"default\":true,\"kind\":null,\"name\":\"allow_drag\"},{\"default\":[],\"kind\":null,\"name\":\"state\"}]},{\"extends\":null,\"module\":null,\"name\":\"click1\",\"overrides\":[],\"properties\":[{\"default\":\"\",\"kind\":null,\"name\":\"terminal_output\"},{\"default\":\"\",\"kind\":null,\"name\":\"debug_name\"},{\"default\":0,\"kind\":null,\"name\":\"clears\"}]},{\"extends\":null,\"module\":null,\"name\":\"NotificationAreaBase1\",\"overrides\":[],\"properties\":[{\"default\":\"bottom-right\",\"kind\":null,\"name\":\"position\"},{\"default\":0,\"kind\":null,\"name\":\"_clear\"}]},{\"extends\":null,\"module\":null,\"name\":\"NotificationArea1\",\"overrides\":[],\"properties\":[{\"default\":[],\"kind\":null,\"name\":\"notifications\"},{\"default\":\"bottom-right\",\"kind\":null,\"name\":\"position\"},{\"default\":0,\"kind\":null,\"name\":\"_clear\"},{\"default\":[{\"background\":\"#ffc107\",\"icon\":{\"className\":\"fas fa-exclamation-triangle\",\"color\":\"white\",\"tagName\":\"i\"},\"type\":\"warning\"},{\"background\":\"#007bff\",\"icon\":{\"className\":\"fas fa-info-circle\",\"color\":\"white\",\"tagName\":\"i\"},\"type\":\"info\"}],\"kind\":null,\"name\":\"types\"}]},{\"extends\":null,\"module\":null,\"name\":\"Notification\",\"overrides\":[],\"properties\":[{\"default\":null,\"kind\":null,\"name\":\"background\"},{\"default\":3000,\"kind\":null,\"name\":\"duration\"},{\"default\":null,\"kind\":null,\"name\":\"icon\"},{\"default\":\"\",\"kind\":null,\"name\":\"message\"},{\"default\":null,\"kind\":null,\"name\":\"notification_type\"},{\"default\":false,\"kind\":null,\"name\":\"_destroyed\"}]},{\"extends\":null,\"module\":null,\"name\":\"TemplateActions1\",\"overrides\":[],\"properties\":[{\"default\":0,\"kind\":null,\"name\":\"open_modal\"},{\"default\":0,\"kind\":null,\"name\":\"close_modal\"}]},{\"extends\":null,\"module\":null,\"name\":\"MaterialTemplateActions1\",\"overrides\":[],\"properties\":[{\"default\":0,\"kind\":null,\"name\":\"open_modal\"},{\"default\":0,\"kind\":null,\"name\":\"close_modal\"}]}],\"roots\":{\"references\":[{\"attributes\":{\"end\":21581672.55640977,\"min_interval\":5,\"reset_end\":21581672.55640977,\"reset_start\":-22242164.49113349,\"start\":-22242164.49113349,\"tags\":[[[\"Lng\",\"Lng\",null]]]},\"id\":\"1550\",\"type\":\"Range1d\"},{\"attributes\":{\"fill_alpha\":{\"value\":0.7},\"fill_color\":{\"field\":\"color\",\"transform\":{\"id\":\"1620\"}},\"hatch_alpha\":{\"value\":0.7},\"hatch_color\":{\"field\":\"color\",\"transform\":{\"id\":\"1620\"}},\"line_alpha\":{\"value\":0.7},\"line_color\":{\"field\":\"color\",\"transform\":{\"id\":\"1620\"}},\"size\":{\"field\":\"size\"},\"x\":{\"field\":\"Lng\"},\"y\":{\"field\":\"Lat\"}},\"id\":\"1627\",\"type\":\"Scatter\"},{\"attributes\":{},\"id\":\"1575\",\"type\":\"PanTool\"},{\"attributes\":{\"tools\":[{\"id\":\"1554\"},{\"id\":\"1574\"},{\"id\":\"1575\"},{\"id\":\"1576\"},{\"id\":\"1577\"},{\"id\":\"1578\"}]},\"id\":\"1580\",\"type\":\"Toolbar\"},{\"attributes\":{\"axis\":{\"id\":\"1566\"},\"coordinates\":null,\"grid_line_color\":null,\"group\":null,\"ticker\":null},\"id\":\"1569\",\"type\":\"Grid\"},{\"attributes\":{\"axis\":{\"id\":\"1570\"},\"coordinates\":null,\"dimension\":1,\"grid_line_color\":null,\"group\":null,\"ticker\":null},\"id\":\"1573\",\"type\":\"Grid\"},{\"attributes\":{\"fill_alpha\":{\"value\":0.7},\"fill_color\":{\"field\":\"color\",\"transform\":{\"id\":\"1620\"}},\"hatch_alpha\":{\"value\":0.7},\"hatch_color\":{\"field\":\"color\",\"transform\":{\"id\":\"1620\"}},\"line_alpha\":{\"value\":0.7},\"line_color\":{\"field\":\"color\",\"transform\":{\"id\":\"1620\"}},\"size\":{\"field\":\"size\"},\"x\":{\"field\":\"Lng\"},\"y\":{\"field\":\"Lat\"}},\"id\":\"1626\",\"type\":\"Scatter\"},{\"attributes\":{\"zoom_on_axis\":false},\"id\":\"1576\",\"type\":\"WheelZoomTool\"},{\"attributes\":{\"code\":\"\\n        var projections = Bokeh.require(\\\"core/util/projections\\\");\\n        var x = special_vars.data_x\\n        var y = special_vars.data_y\\n        if (projections.wgs84_mercator.invert == null) {\\n          var coords = projections.wgs84_mercator.inverse([x, y])\\n        } else {\\n          var coords = projections.wgs84_mercator.invert(x, y)\\n        }\\n        return \\\"\\\" + (coords[1]).toFixed(4)\\n    \"},\"id\":\"1640\",\"type\":\"CustomJSHover\"},{\"attributes\":{},\"id\":\"1562\",\"type\":\"LinearScale\"},{\"attributes\":{\"axis_label\":\"y\",\"coordinates\":null,\"formatter\":{\"id\":\"1592\"},\"group\":null,\"major_label_policy\":{\"id\":\"1602\"},\"ticker\":{\"id\":\"1591\"}},\"id\":\"1570\",\"type\":\"LinearAxis\"},{\"attributes\":{\"bottom_units\":\"screen\",\"coordinates\":null,\"fill_alpha\":0.5,\"fill_color\":\"lightgrey\",\"group\":null,\"left_units\":\"screen\",\"level\":\"overlay\",\"line_alpha\":1.0,\"line_color\":\"black\",\"line_dash\":[4,4],\"line_width\":2,\"right_units\":\"screen\",\"syncable\":false,\"top_units\":\"screen\"},\"id\":\"1579\",\"type\":\"BoxAnnotation\"},{\"attributes\":{\"attribution\":\"&copy; <a href=\\\"https://www.openstreetmap.org/copyright\\\">OpenStreetMap</a> contributors\",\"url\":\"https://c.tile.openstreetmap.org/{Z}/{X}/{Y}.png\"},\"id\":\"1615\",\"type\":\"WMTSTileSource\"},{\"attributes\":{\"dimension\":\"lat\"},\"id\":\"1591\",\"type\":\"MercatorTicker\"},{\"attributes\":{},\"id\":\"1595\",\"type\":\"AllLabels\"},{\"attributes\":{\"dimension\":\"lat\"},\"id\":\"1592\",\"type\":\"MercatorTickFormatter\"},{\"attributes\":{},\"id\":\"1602\",\"type\":\"AllLabels\"},{\"attributes\":{\"margin\":[5,5,5,5],\"name\":\"HSpacer02167\",\"sizing_mode\":\"stretch_width\"},\"id\":\"1647\",\"type\":\"Spacer\"},{\"attributes\":{},\"id\":\"1574\",\"type\":\"SaveTool\"},{\"attributes\":{},\"id\":\"1622\",\"type\":\"Selection\"},{\"attributes\":{\"fill_alpha\":{\"value\":0.7},\"fill_color\":{\"field\":\"color\",\"transform\":{\"id\":\"1620\"}},\"hatch_alpha\":{\"value\":0.7},\"hatch_color\":{\"field\":\"color\",\"transform\":{\"id\":\"1620\"}},\"line_alpha\":{\"value\":0.7},\"line_color\":{\"field\":\"color\",\"transform\":{\"id\":\"1620\"}},\"size\":{\"field\":\"size\"},\"x\":{\"field\":\"Lng\"},\"y\":{\"field\":\"Lat\"}},\"id\":\"1624\",\"type\":\"Scatter\"},{\"attributes\":{\"label\":{\"field\":\"color\"},\"renderers\":[{\"id\":\"1629\"}]},\"id\":\"1638\",\"type\":\"LegendItem\"},{\"attributes\":{\"data\":{\"City\":[\"Rikitea\",\"Feijo\",\"Moron\",\"Hilo\",\"Cayenne\",\"Sao Joao Da Barra\",\"Cozumel\",\"Atuona\",\"Vaini\",\"Bredasdorp\",\"Mar Del Plata\",\"Sao Jose Da Coroa Grande\",\"Puerto Ayora\",\"Grand Gaube\",\"Waingapu\",\"Castro\",\"Souillac\",\"Sao Filipe\",\"Avarua\",\"Pitimbu\",\"Vaitape\",\"Kapaa\",\"Port Hedland\",\"San Pedro\",\"Cape Town\",\"Wembley\",\"Georgetown\",\"Lorengau\",\"Salalah\",\"Nouadhibou\",\"Ratnagiri\",\"Cidreira\",\"Kalmunai\",\"Pisco\",\"Hithadhoo\",\"Riyadh\",\"Saint-Philippe\",\"Faanui\",\"Mitsamiouli\",\"Salinopolis\",\"Kuala Terengganu\",\"Kavieng\",\"Dawei\",\"Yulara\",\"Port-Gentil\",\"Kawalu\",\"Yenagoa\",\"Saldanha\",\"Niamey\",\"Puerto Del Rosario\",\"Mahebourg\",\"Ponta Do Sol\",\"Camana\",\"Saint-Paul\",\"San Cristobal\",\"Puerto Colombia\",\"Angoche\",\"Meulaboh\",\"Isangel\",\"Matara\",\"Kisangani\",\"Sambava\",\"Hambantota\",\"Mahibadhoo\",\"Namibe\",\"Paraiso\",\"Sinnamary\",\"Lazaro Cardenas\",\"Vallenar\",\"Karratha\",\"Bubaque\",\"Sal Rei\",\"Alta Floresta\",\"Akyab\",\"Luganville\",\"Looc\",\"Bengkulu\",\"Ilhabela\",\"Catuday\",\"Aden\",\"Chuy\",\"Miramar\",\"Dwarka\",\"Acajutla\",\"Cabo San Lucas\",\"Bathsheba\",\"Inhambane\",\"Mogadishu\",\"Namatanai\",\"Impfondo\",\"Tabou\",\"San Nicolas\",\"Piacabucu\",\"Port Moresby\",\"Omboue\",\"Berbera\",\"Los Andes\",\"Vao\",\"Paracatu\",\"Sao Felix Do Xingu\",\"Honiara\",\"Araquari\",\"Paita\",\"Weligama\",\"Banda Aceh\",\"Maragogi\",\"Vila Velha\",\"Montepuez\",\"Port Blair\",\"Conceicao Da Barra\",\"Touros\",\"Laem Sing\",\"Beira\",\"Vieux-Habitants\",\"Necochea\",\"Mayumba\",\"Muisne\",\"Oudtshoorn\",\"La Libertad\",\"San Andres\",\"Emerald\",\"Gold Coast\",\"Ambilobe\",\"Rio Grande\",\"Buta\",\"Pobe\",\"Olinda\",\"Mount Isa\",\"Maraba\",\"Hervey Bay\",\"Gladstone\",\"Nabire\",\"Pochutla\",\"Itarema\",\"Rio Tercero\",\"Benguela\",\"Barra Dos Coqueiros\",\"Madingou\",\"Porto Novo\",\"Bosaso\",\"Porto Nacional\",\"Biltine\",\"Kikwit\",\"Nicoya\",\"Soyo\",\"Makakilo City\"],\"Country\":[\"PF\",\"BR\",\"AR\",\"US\",\"GF\",\"BR\",\"MX\",\"PF\",\"TO\",\"ZA\",\"AR\",\"BR\",\"EC\",\"MU\",\"ID\",\"BR\",\"MU\",\"CV\",\"CK\",\"BR\",\"PF\",\"US\",\"AU\",\"PH\",\"ZA\",\"AU\",\"MY\",\"PG\",\"OM\",\"MR\",\"IN\",\"BR\",\"LK\",\"PE\",\"MV\",\"SA\",\"RE\",\"PF\",\"KM\",\"BR\",\"MY\",\"PG\",\"MM\",\"AU\",\"GA\",\"ID\",\"NG\",\"ZA\",\"NE\",\"ES\",\"MU\",\"PT\",\"PE\",\"RE\",\"VE\",\"CO\",\"MZ\",\"ID\",\"VU\",\"LK\",\"CD\",\"MG\",\"LK\",\"MV\",\"AO\",\"CR\",\"GF\",\"MX\",\"CL\",\"AU\",\"GW\",\"CV\",\"BR\",\"MM\",\"VU\",\"PH\",\"ID\",\"BR\",\"PH\",\"YE\",\"UY\",\"US\",\"IN\",\"SV\",\"MX\",\"BB\",\"MZ\",\"SO\",\"PG\",\"CG\",\"CI\",\"PH\",\"BR\",\"PG\",\"GA\",\"SO\",\"CL\",\"NC\",\"BR\",\"BR\",\"SB\",\"BR\",\"PE\",\"LK\",\"ID\",\"BR\",\"BR\",\"MZ\",\"IN\",\"BR\",\"BR\",\"TH\",\"MZ\",\"GP\",\"AR\",\"GA\",\"EC\",\"ZA\",\"EC\",\"CO\",\"AU\",\"AU\",\"MG\",\"BR\",\"CD\",\"BJ\",\"BR\",\"AU\",\"BR\",\"AU\",\"AU\",\"ID\",\"MX\",\"BR\",\"AR\",\"AO\",\"BR\",\"CG\",\"BJ\",\"SO\",\"BR\",\"TD\",\"CD\",\"CR\",\"AO\",\"US\"],\"Current_Description\":[\"overcast clouds\",\"scattered clouds\",\"overcast clouds\",\"overcast clouds\",\"scattered clouds\",\"overcast clouds\",\"moderate rain\",\"scattered clouds\",\"light rain\",\"overcast clouds\",\"scattered clouds\",\"broken clouds\",\"broken clouds\",\"scattered clouds\",\"light rain\",\"scattered clouds\",\"scattered clouds\",\"few clouds\",\"broken clouds\",\"few clouds\",\"light rain\",\"clear sky\",\"scattered clouds\",\"broken clouds\",\"broken clouds\",\"clear sky\",\"few clouds\",\"overcast clouds\",\"few clouds\",\"clear sky\",\"clear sky\",\"clear sky\",\"broken clouds\",\"mist\",\"overcast clouds\",\"light rain\",\"overcast clouds\",\"light rain\",\"overcast clouds\",\"overcast clouds\",\"few clouds\",\"broken clouds\",\"clear sky\",\"few clouds\",\"scattered clouds\",\"overcast clouds\",\"clear sky\",\"overcast clouds\",\"clear sky\",\"clear sky\",\"scattered clouds\",\"clear sky\",\"overcast clouds\",\"overcast clouds\",\"scattered clouds\",\"few clouds\",\"overcast clouds\",\"overcast clouds\",\"light rain\",\"few clouds\",\"broken clouds\",\"moderate rain\",\"scattered clouds\",\"overcast clouds\",\"broken clouds\",\"broken clouds\",\"overcast clouds\",\"scattered clouds\",\"clear sky\",\"clear sky\",\"scattered clouds\",\"clear sky\",\"overcast clouds\",\"overcast clouds\",\"few clouds\",\"overcast clouds\",\"overcast clouds\",\"broken clouds\",\"overcast clouds\",\"scattered clouds\",\"light rain\",\"clear sky\",\"clear sky\",\"clear sky\",\"clear sky\",\"light rain\",\"few clouds\",\"broken clouds\",\"broken clouds\",\"broken clouds\",\"clear sky\",\"overcast clouds\",\"overcast clouds\",\"broken clouds\",\"scattered clouds\",\"few clouds\",\"clear sky\",\"scattered clouds\",\"light rain\",\"overcast clouds\",\"light rain\",\"broken clouds\",\"overcast clouds\",\"few clouds\",\"few clouds\",\"broken clouds\",\"overcast clouds\",\"moderate rain\",\"mist\",\"light rain\",\"overcast clouds\",\"scattered clouds\",\"clear sky\",\"clear sky\",\"light rain\",\"overcast clouds\",\"overcast clouds\",\"overcast clouds\",\"clear sky\",\"few clouds\",\"overcast clouds\",\"light rain\",\"moderate rain\",\"broken clouds\",\"overcast clouds\",\"broken clouds\",\"scattered clouds\",\"broken clouds\",\"scattered clouds\",\"overcast clouds\",\"light rain\",\"overcast clouds\",\"clear sky\",\"overcast clouds\",\"light rain\",\"light rain\",\"light intensity shower rain\",\"overcast clouds\",\"broken clouds\",\"scattered clouds\",\"overcast clouds\",\"overcast clouds\",\"light rain\",\"overcast clouds\",\"broken clouds\",\"few clouds\"],\"Lat\":{\"__ndarray__\":\"SnZMsRYxRMH3NVeUa9QrwSIrjGPHaE/BYUrfwgYZQUGe2oeGuMcgQU1i26wU1ULBarMjIVDNQUHi22GHYbowwS423T4/bkLBsS4aqcRIT8EA3sWuaXhRwaVQAQmQWS7BZKSBiMwX9MCN+RyO/lhBwcp5CrQoezDBVB4t2Z2+RcEJDn9SQ89BwayQPvCslzlBsL0A6xBwQsF3Eqaei3MpwcYPvtW9czzB3KYbJfY6Q0G9VIIv3aBBwSzkLf5BojhBRmEGkE2pTsExw8QyH6VMwfHb9AQLaSJBquOko4x9C8GWWwTXFlY9QRmFtnySL0JBxB4cJqFHPUFERbzuYOhKwUQVwmNFRClBdCBWn+x+N8GcIOykjk7wwKfGkQrdpUVBMLVSyjqTQsELDKcTmGQ8wUN4W8RxdzPBJJ2+Hy+t8MAp4Qe+SSIiQbfvrX5VfxHB+RE/E58qOEHNyGj8dipGwXwY+WijjPPAmvjPl5MlKcH3XCu5NsAgQe5t2YUMu03BO+ga55IrN0GvoY5DKUVJQbVzVpQPtkHBbAC0iMVhTUFDNKWO4KM8wWCBPanfQULBEigrKod3KkE04UlQg8cyQbgt4FHv8jvBf0U5Jc0gHEEiP2Lgiu9AwfrZlJehPiRB0rf07/EV7EBvF7A44Hw4weRPt/wy2CRBGxqbo1W5GUG7sB5gwh46wT68YHNIyzBBKY/NuqtQIkGUvrI1HAQ/QdQnAYuVVknB2WpbupoCQsFwilt1eUozQclnRLan3DtBwyZW4b7bMMEBKyx9PHpBQdKh57bStjrBp3rga4n8NEHkbuqYJNcZwbGsW+z7zETBp2efrAUOPEHSfmVfrOM1QWVjRg51bU7BCwUgCoLeRkGyw7I3gmFDQeB0q4H0TjdB/+JkFOf6Q0FMZqic1KY2QXlKhDCj4UTBZ37gzgWwC0E46vJMGO4YwcKloHFKQwZBKHrjbN8UHkG7z1hHFWY/QbjuMrbexTHBRWBTsPgcMMFkMU7oTWYFwcwEWRLn1DFBOeI9lfGMTcERDFKMCMZDwaMrHtZRtD3Bybsoj8ifJsH+vYfJphgwwQbIhnhMO0fBgngfI9NPIcE5+yOgi04kQaGNm6MJ6SJBgaymOUi+LsH529nL4KNBweJjrmslfjbBM8UY8Zf0M0GRur3McxNAwRhECGedryHB2LM4QfdeNUHHe/kvWDNBwTPeF7lYpDtBvqIFBeLDUcF/DMGkFFUXwQMg7KSOTvBAQn0uR6tRTsE/qHRdBlsOwYzAhnbkjDVBInzsduCSRMF/SBPlpslIwcUxeA9fnzbBfUwx5jC/TMHeIeRicO8SQWmoPryMxSdBV5ToewBMK8F24trclAFCwSE7L3rUQyLBpSnr2mg4RsEkJThKEt5EweQXj71M4xbBQCWz4ZoVO0FjnDL5guETwTdZZoac4kzBb8NjYCaJNcEWUdNgkaQywbEq66f4PhzBA8uLSwseJkHGUume30ozQT5QKbKsSzLB3u9Lp5D0OEFh/F/evSUhwSDIbiwpVDFB1/xBUKXhJMF8MhKNhZBCQQ==\",\"dtype\":\"float64\",\"order\":\"little\",\"shape\":[146]},\"Lng\":{\"__ndarray__\":\"+J+800eobMFyulu7K+BdwYJvVJKV5FjBaOs7vfl2cMEfma4TLTlWwXuvGuOublHB6PjXRfV1YsEEDhmFL4VtwfF5l2yEmXLB51/k/i0FQUHnadjlGXFYwb2SaJnd2U3BKsDIixcvY8FSTUO5VHxYQVFA7Uv7iGlBH3F2z9A8VcECGWRwqmxYQdSQ/dvazUTBkJBDek32cMFE90jQHZBNwbpkpcszHHDBLFRC3+jpcMEfxGgVuCxpQY7IfK3jsWlBwgAnPi1LP0HUYxWhVZZoQeyHXrTATWVBdK3CX/VEb0GdTx+baPhWQQyiOyFm7zzBkJs1q3kgX0HVFu1031FVwZ+BPCwqX2FBfXd8h8YuYMERm3Tv6ghfQQQye4co11NBSVHCjo2uV0G6ZKXLMxxwwdy3gVd3YVJB2HUHPBocVMHfmcCqPeZlQYiGtz1LAnBBjmjev67ZZEHi5rg07s9rQWhagDcg1S1BHDIoN675ZkG2q8Mb30clQWTP6TTjej5B0zO25G6rDEFgL3y0FIw3wWT1maeXgFhB1YnlSssLPcFwEyGodOBewaCkgYuAeFdB9Sk+jpyrXsGWClfCW9Rfwc/770F78lBBTox29RVpZEES2aKtQ/hxQfa/x5KDGWFBZ7aAlQFnRUFo/uvfpE1VQVAvpcM2OWFBWyzj+D38XkH49Ey3SKQ0QZXlYnyIzmHBfXZmwjd8VsHwuLB+GrNlwSACVuokDF7BiRq/0zTPaEGqeMHk+uQ6wW7u9K+RdkPBRdfsBSXRV8FA8TqWmbljQSzXvv4wv3FBOf2ZQ+/maUF20FfsqbZlQX04GibmQlPBTSuxpRdwaUHfYLSg9R9TQYYSsoXVs1bB3F7/WAsJYcGn7yIYhUldQSU85fGXEmPBDLXLDFBWZ8FkaTYvFkZZwfuSI3gRDU5BqiOBLlhBU0HZAGDVxS5wQV8EJdgnsD5BRxBg55v6KMEiAWvs+5ppQbVifG2Z8U7BRZpKKPw/b0Fyhju41XYvQWUlFT2GHVNBR8Wjs8X6XcF3DsK6y8dxQUesC+/E51PBWHofO2YUVsG4kNYID/twQfytvgJ+sFTBAy+Htv04YcEWfwxDERNhQRBLfVhCPWRBQgbaYRvqTcHwZUwlNxxRwcaPr6+sj1BB1qesWHKxY0F1B2oRTt9QwV7VfBnrHU7BHgcPbj6sZUFQUcxNtJZNQWkvVCKZOlrBb0itqk3xWMFhSsOzaRkyQWbsekY6/mDBsax9RQzbQkEbAMRZVi1hwaNsEKbaWGHBirAWM6J1b0HlSjpN80lwQfGMf0E/1FRBaO3fZ6kfVsHxyO+A0QBFQfu2ej49GxJBG1asH0WaTcFKs+aejZ5tQaxeCB+e21TB51STXDE6cEG0P7gPnQ5wQeKZ8X45xGxBw54vpG97ZMF1IvatXPNQwSIjvT3fOVvBrm4Pb0XFNkGkr7wL93RPwbroqRkbBDdBoXh1tJ2wEUFaCseqjeJUQdU8LYN0j1TBq01QMrrDQUHqaXvNEfY/QduREiTDJGLB7/ZQpoMCNUHDUh/sZMhwwQ==\",\"dtype\":\"float64\",\"order\":\"little\",\"shape\":[146]},\"Max_Temp\":{\"__ndarray__\":\"w/UoXI9SU0D2KFyPwuVUQK5H4XoUvlVAUrgeheuRU0CPwvUoXA9VQMP1KFyP0lJAhetRuB6FVECF61G4HmVTQNejcD0K11JAFK5H4XqEUUCF61G4HrVVQK5H4XoUHlVAcT0K16OwU0DNzMzMzMxTQClcj8L1qFNA7FG4HoVLUkDsUbgehctTQI/C9Shcj1NAAAAAAADQUkApXI/C9RhWQJqZmZmZCVRArkfhehRuUkDNzMzMzJxUQFK4HoXrgVNAuB6F61FYUkBxPQrXo4BSQJqZmZmZeVRArkfhehSOVEAzMzMzM4NSQLgehetRmFRA7FG4HoWbUkDNzMzMzNxSQI/C9Shc71JAcT0K16MAUkAK16NwPXpUQI/C9Shc71FAXI/C9SgMVEB7FK5H4QpUQFK4HoXrIVRAFK5H4XqkUkCPwvUoXH9UQM3MzMzMfFRASOF6FK73UUBmZmZmZtZRQArXo3A9ClVAUrgehesRUkBI4XoUrtdVQJqZmZmZ6VFAXI/C9SisVEBmZmZmZtZRQPYoXI/CxVNArkfhehSuUUBcj8L1KGxSQD0K16NwLVRAUrgehesxVED2KFyPwoVVQHsUrkfhilNAFK5H4XpUU0CPwvUoXJ9TQI/C9Shc71JAFK5H4XoUUkCPwvUoXH9TQDMzMzMzs1NArkfhehTeU0AAAAAAALBRQArXo3A9ClJAj8L1KFwfVEDXo3A9CpdUQFK4HoXr8VVAmpmZmZkZVEApXI/C9UhUQDMzMzMzM1RAZmZmZmY2VEC4HoXrUZhRQKRwPQrXA1RA16NwPQpHU0CuR+F6FO5SQM3MzMzMzFJAhetRuB7VUkCF61G4HpVTQMP1KFyPElRAcT0K16NAVEA9CtejcN1RQI/C9ShcL1VAcT0K16PgUkBxPQrXowBUQB+F61G4PlNAexSuR+GaU0AzMzMzM9NTQB+F61G4nlNAMzMzMzOzVEDhehSuR8FRQKRwPQrXE1VAAAAAAABgU0D2KFyPwsVTQI/C9Shcb1NAcT0K16NAVEBI4XoUrqdTQHE9CtejQFRAuB6F61F4U0DXo3A9CndTQJqZmZmZWVNAj8L1KFz/UkCamZmZmflSQLgehetReFNAuB6F61EYVUCamZmZmclSQClcj8L1mFFAKVyPwvUoVECPwvUoXO9SQKRwPQrXM1VAUrgeheuBU0CPwvUoXN9SQK5H4XoUflRAmpmZmZlZUkCamZmZmQlTQPYoXI/CxVNAzczMzMy8UUA9CtejcJ1TQOF6FK5HgVVAZmZmZmbWUUAAAAAAAEBSQKRwPQrXA1NAPQrXo3BtVkAAAAAAALBSQOF6FK5HAVZAH4XrUbhuVUDhehSuRzFTQFK4HoXrcVZAPQrXo3ANUkBSuB6F6/FRQArXo3A9KlNAFK5H4Xr0VECkcD0K15NVQB+F61G4DlJA9ihcj8IlU0DhehSuR4FVQClcj8L1KFJApHA9CteTVEBSuB6F6wFTQM3MzMzMDFVAw/UoXI/CUkCuR+F6FC5SQJqZmZmZCVVAAAAAAADQU0DsUbgehUtSQA==\",\"dtype\":\"float64\",\"order\":\"little\",\"shape\":[146]},\"color\":[\"Rikitea\",\"Feijo\",\"Moron\",\"Hilo\",\"Cayenne\",\"Sao Joao Da Barra\",\"Cozumel\",\"Atuona\",\"Vaini\",\"Bredasdorp\",\"Mar Del Plata\",\"Sao Jose Da Coroa Grande\",\"Puerto Ayora\",\"Grand Gaube\",\"Waingapu\",\"Castro\",\"Souillac\",\"Sao Filipe\",\"Avarua\",\"Pitimbu\",\"Vaitape\",\"Kapaa\",\"Port Hedland\",\"San Pedro\",\"Cape Town\",\"Wembley\",\"Georgetown\",\"Lorengau\",\"Salalah\",\"Nouadhibou\",\"Ratnagiri\",\"Cidreira\",\"Kalmunai\",\"Pisco\",\"Hithadhoo\",\"Riyadh\",\"Saint-Philippe\",\"Faanui\",\"Mitsamiouli\",\"Salinopolis\",\"Kuala Terengganu\",\"Kavieng\",\"Dawei\",\"Yulara\",\"Port-Gentil\",\"Kawalu\",\"Yenagoa\",\"Saldanha\",\"Niamey\",\"Puerto Del Rosario\",\"Mahebourg\",\"Ponta Do Sol\",\"Camana\",\"Saint-Paul\",\"San Cristobal\",\"Puerto Colombia\",\"Angoche\",\"Meulaboh\",\"Isangel\",\"Matara\",\"Kisangani\",\"Sambava\",\"Hambantota\",\"Mahibadhoo\",\"Namibe\",\"Paraiso\",\"Sinnamary\",\"Lazaro Cardenas\",\"Vallenar\",\"Karratha\",\"Bubaque\",\"Sal Rei\",\"Alta Floresta\",\"Akyab\",\"Luganville\",\"Looc\",\"Bengkulu\",\"Ilhabela\",\"Catuday\",\"Aden\",\"Chuy\",\"Miramar\",\"Dwarka\",\"Acajutla\",\"Cabo San Lucas\",\"Bathsheba\",\"Inhambane\",\"Mogadishu\",\"Namatanai\",\"Impfondo\",\"Tabou\",\"San Nicolas\",\"Piacabucu\",\"Port Moresby\",\"Omboue\",\"Berbera\",\"Los Andes\",\"Vao\",\"Paracatu\",\"Sao Felix Do Xingu\",\"Honiara\",\"Araquari\",\"Paita\",\"Weligama\",\"Banda Aceh\",\"Maragogi\",\"Vila Velha\",\"Montepuez\",\"Port Blair\",\"Conceicao Da Barra\",\"Touros\",\"Laem Sing\",\"Beira\",\"Vieux-Habitants\",\"Necochea\",\"Mayumba\",\"Muisne\",\"Oudtshoorn\",\"La Libertad\",\"San Andres\",\"Emerald\",\"Gold Coast\",\"Ambilobe\",\"Rio Grande\",\"Buta\",\"Pobe\",\"Olinda\",\"Mount Isa\",\"Maraba\",\"Hervey Bay\",\"Gladstone\",\"Nabire\",\"Pochutla\",\"Itarema\",\"Rio Tercero\",\"Benguela\",\"Barra Dos Coqueiros\",\"Madingou\",\"Porto Novo\",\"Bosaso\",\"Porto Nacional\",\"Biltine\",\"Kikwit\",\"Nicoya\",\"Soyo\",\"Makakilo City\"],\"size\":{\"__ndarray__\":\"9+y19zuVIUDXJthnF0kiQDDtVGzLpiJAFke3b/ixIUAqK12iQVsiQN00VUKdWiFAN0lnR54eIkAYeFS/q50hQMd6F9atXCFAKSDcNNe9IECcqZIw86IiQIWqzcyqYSJA9AZddta/IUCCh2Ypg8whQO887PhfvCFAyfN+e+sbIUDn5Aff78shQJWVNxzQsCFAm2bMGm9ZIUCp84/wnc0iQKZWSyrC5yFAyK9gzQwsIUDXPT++DykiQBPkUSe7qiFAIk9/oeYhIUBFaKwosDQhQOp9+X6HGSJASwE2kZIiIkD33lXV4DUhQLYe1mkWJyJAeIWBJStBIUCwWS8TVV8hQEhjQ/veZyFAXS9TCMT4IEAHSA3pzxkiQErXVOCc8CBA3Xex8OboIUAvvNSPVOghQI8e2ZWc8iFAaUViI1JFIUBwbfMQExwiQEAhDIbxGiJAVe/wSor0IEA3cBcmz+QgQJ/o1kQGWSJAoNyOR+cAIUBS9W4pw7EiQHlr90jk7SBAhcv6rNIvIkA3cBcmz+QgQDYNaNVYySFAYkHdZazRIEDSQw3LJyshQId7FGS+9yFAh1tt67z5IUAv+aiUk44iQD0la1vJriFAsDOvlBuWIUCmqX3oCrghQEhjQ/veZyFAxNnbkxsCIUBAO11akqkhQEUXFs/9wCFARUAuxEXUIUBex1MqltIgQDy/iN9J/SBAXJfgbXjxIUABbHv+hSYiQPRchG76vCJAMA73z+buIUBbhj4C+wMiQIGWjb5O+iFAKdUoOrv7IUA4h3SPT8cgQIFTfCcv5SFAMERQYP2PIUBTOSNdSGchQC/Xdkz1VyFAuoRSVctbIUDG3Na8arMhQP3W8o7C6yFAlprG0EgAIkBSr+lDJOggQCuOnIkuaSJARF34rBlhIUCVUoHgwOMhQLIbiMAyjCFActty+wS2IUBRNeBVY88hQDjq0e7AtyFARWwkLusyIkCW/JDYy9ogQNf1O1s1XSJAn3yPWVibIUA2DWjVWMkhQBdUSZ9RoiFAlprG0EgAIkB2CIUozLshQJaaxtBIACJAuKI1wmGmIUDoppg5zaUhQB5WratvmCFAm9z4BjhvIUApyi01k2whQLiiNcJhpiFA6P8B3yhfIkBGkPhde1YhQCFAJa2dxyBALFkLpL/1IUBIY0P73mchQCXzqcggayJAE+RRJ7uqIUCahCjUgmAhQLqCwk2CGyJAMYaAoX8iIUAOAOVF6nMhQDYNaNVYySFAImSXWavYIECHt9v3LLchQK2vxQ2ljCJAN3AXJs/kIECjFK6ohxYhQE6fVCpGcSFAzynsNG3xIkCwi29gp0ohQFQpcRCIwyJARjcaJ6KEIkBt93wWEYYhQK9b13VR8yJAQvd2jcv+IEB5FQhV0vEgQFA3pAbagiFAsipl7oZPIkABRSqApJQiQBwjd8ll/yBAPMGo882AIUCtr8UNpYwiQKahI+a6CyFAN8hz3hwlIkAOJw61ZHAhQAydSfwjWiJADhOHeTtTIUC/f47hIQ4hQG3+QtS+WCJA1T+ATvPNIUDJ83576xshQA==\",\"dtype\":\"float64\",\"order\":\"little\",\"shape\":[146]}},\"selected\":{\"id\":\"1622\"},\"selection_policy\":{\"id\":\"1634\"}},\"id\":\"1621\",\"type\":\"ColumnDataSource\"},{\"attributes\":{},\"id\":\"1578\",\"type\":\"ResetTool\"},{\"attributes\":{\"children\":[{\"id\":\"1545\"},{\"id\":\"1557\"},{\"id\":\"1647\"}],\"margin\":[0,0,0,0],\"name\":\"Row02162\",\"tags\":[\"embedded\"]},\"id\":\"1544\",\"type\":\"Row\"},{\"attributes\":{\"dimension\":\"lon\"},\"id\":\"1589\",\"type\":\"MercatorTicker\"},{\"attributes\":{\"factors\":[\"Rikitea\",\"Feijo\",\"Moron\",\"Hilo\",\"Cayenne\",\"Sao Joao Da Barra\",\"Cozumel\",\"Atuona\",\"Vaini\",\"Bredasdorp\",\"Mar Del Plata\",\"Sao Jose Da Coroa Grande\",\"Puerto Ayora\",\"Grand Gaube\",\"Waingapu\",\"Castro\",\"Souillac\",\"Sao Filipe\",\"Avarua\",\"Pitimbu\",\"Vaitape\",\"Kapaa\",\"Port Hedland\",\"San Pedro\",\"Cape Town\",\"Wembley\",\"Georgetown\",\"Lorengau\",\"Salalah\",\"Nouadhibou\",\"Ratnagiri\",\"Cidreira\",\"Kalmunai\",\"Pisco\",\"Hithadhoo\",\"Riyadh\",\"Saint-Philippe\",\"Faanui\",\"Mitsamiouli\",\"Salinopolis\",\"Kuala Terengganu\",\"Kavieng\",\"Dawei\",\"Yulara\",\"Port-Gentil\",\"Kawalu\",\"Yenagoa\",\"Saldanha\",\"Niamey\",\"Puerto Del Rosario\",\"Mahebourg\",\"Ponta Do Sol\",\"Camana\",\"Saint-Paul\",\"San Cristobal\",\"Puerto Colombia\",\"Angoche\",\"Meulaboh\",\"Isangel\",\"Matara\",\"Kisangani\",\"Sambava\",\"Hambantota\",\"Mahibadhoo\",\"Namibe\",\"Paraiso\",\"Sinnamary\",\"Lazaro Cardenas\",\"Vallenar\",\"Karratha\",\"Bubaque\",\"Sal Rei\",\"Alta Floresta\",\"Akyab\",\"Luganville\",\"Looc\",\"Bengkulu\",\"Ilhabela\",\"Catuday\",\"Aden\",\"Chuy\",\"Miramar\",\"Dwarka\",\"Acajutla\",\"Cabo San Lucas\",\"Bathsheba\",\"Inhambane\",\"Mogadishu\",\"Namatanai\",\"Impfondo\",\"Tabou\",\"San Nicolas\",\"Piacabucu\",\"Port Moresby\",\"Omboue\",\"Berbera\",\"Los Andes\",\"Vao\",\"Paracatu\",\"Sao Felix Do Xingu\",\"Honiara\",\"Araquari\",\"Paita\",\"Weligama\",\"Banda Aceh\",\"Maragogi\",\"Vila Velha\",\"Montepuez\",\"Port Blair\",\"Conceicao Da Barra\",\"Touros\",\"Laem Sing\",\"Beira\",\"Vieux-Habitants\",\"Necochea\",\"Mayumba\",\"Muisne\",\"Oudtshoorn\",\"La Libertad\",\"San Andres\",\"Emerald\",\"Gold Coast\",\"Ambilobe\",\"Rio Grande\",\"Buta\",\"Pobe\",\"Olinda\",\"Mount Isa\",\"Maraba\",\"Hervey Bay\",\"Gladstone\",\"Nabire\",\"Pochutla\",\"Itarema\",\"Rio Tercero\",\"Benguela\",\"Barra Dos Coqueiros\",\"Madingou\",\"Porto Novo\",\"Bosaso\",\"Porto Nacional\",\"Biltine\",\"Kikwit\",\"Nicoya\",\"Soyo\",\"Makakilo City\"],\"palette\":[\"#1f77b3\",\"#ff7e0e\",\"#2ba02b\",\"#d62628\",\"#9367bc\",\"#8c564b\",\"#e277c1\",\"#7e7e7e\",\"#bcbc21\",\"#16bdcf\",\"#3a0182\",\"#004201\",\"#0fffa8\",\"#5d003f\",\"#bcbcff\",\"#d8afa1\",\"#b80080\",\"#004d52\",\"#6b6400\",\"#7c0100\",\"#6026ff\",\"#ffff9a\",\"#564964\",\"#8cb893\",\"#93fbff\",\"#018267\",\"#90ff00\",\"#8200a0\",\"#ac8944\",\"#5b3400\",\"#ffbff2\",\"#ff6e75\",\"#798cff\",\"#dd00ff\",\"#505646\",\"#004489\",\"#ffbf60\",\"#ff018c\",\"#bdc8cf\",\"#af97b5\",\"#b65600\",\"#017000\",\"#cd87ff\",\"#1cd646\",\"#bfebc3\",\"#7997b5\",\"#a56089\",\"#6e8956\",\"#bc7c75\",\"#8a2844\",\"#00acff\",\"#8ed4ff\",\"#4b6d77\",\"#00d4b1\",\"#9300f2\",\"#8a9500\",\"#5d5b9e\",\"#fddfba\",\"#00939e\",\"#ffdb00\",\"#00aa79\",\"#520067\",\"#000091\",\"#0a5d3d\",\"#a5e275\",\"#623b41\",\"#c6c689\",\"#ff9eb5\",\"#cd4f6b\",\"#ff07d6\",\"#8a3a05\",\"#7e3d70\",\"#ff4901\",\"#602ba5\",\"#1c00ff\",\"#e6dfff\",\"#aa3baf\",\"#d89c00\",\"#a3a39e\",\"#3f69ff\",\"#46490c\",\"#7b6985\",\"#6b978c\",\"#ff9a75\",\"#835bff\",\"#7c6b46\",\"#80b654\",\"#bc0049\",\"#fd93ff\",\"#5d0018\",\"#89d1d1\",\"#9c8cd3\",\"#da6d42\",\"#8a5700\",\"#3b5069\",\"#4b6b3b\",\"#edcfd8\",\"#cfedff\",\"#aa1500\",\"#dfff4f\",\"#ff2a56\",\"#d1499e\",\"#707cb8\",\"#598000\",\"#00e4fd\",\"#774b95\",\"#67d48c\",\"#3d3a72\",\"#ac413f\",\"#d6a166\",\"#c169cd\",\"#69595d\",\"#87aced\",\"#a0a569\",\"#d1aae6\",\"#870062\",\"#00fddb\",\"#672818\",\"#b342ff\",\"#0e59c4\",\"#168742\",\"#90d300\",\"#cd7900\",\"#f959ff\",\"#5b7466\",\"#8eaeb3\",\"#9c7c8c\",\"#4600c6\",\"#6b4d2d\",\"#a56d46\",\"#9e8972\",\"#a8afca\",\"#cd8ca7\",\"#00fd64\",\"#917900\",\"#ff62a1\",\"#f4ffd8\",\"#018cf0\",\"#13aca0\",\"#5b2d59\",\"#89859e\",\"#cfccba\",\"#d4afc4\",\"#dbdd6d\",\"#cffff4\",\"#006485\"]},\"id\":\"1620\",\"type\":\"CategoricalColorMapper\"},{\"attributes\":{\"code\":\"\\n        var projections = Bokeh.require(\\\"core/util/projections\\\");\\n        var x = special_vars.data_x\\n        var y = special_vars.data_y\\n        if (projections.wgs84_mercator.invert == null) {\\n          var coords = projections.wgs84_mercator.inverse([x, y])\\n        } else {\\n          var coords = projections.wgs84_mercator.invert(x, y)\\n        }\\n        return \\\"\\\" + (coords[0]).toFixed(4)\\n    \"},\"id\":\"1639\",\"type\":\"CustomJSHover\"},{\"attributes\":{\"fill_alpha\":{\"value\":0.7},\"fill_color\":{\"field\":\"color\",\"transform\":{\"id\":\"1620\"}},\"hatch_alpha\":{\"value\":0.1},\"hatch_color\":{\"field\":\"color\",\"transform\":{\"id\":\"1620\"}},\"line_alpha\":{\"value\":0.7},\"line_color\":{\"field\":\"color\",\"transform\":{\"id\":\"1620\"}},\"size\":{\"field\":\"size\"},\"x\":{\"field\":\"Lng\"},\"y\":{\"field\":\"Lat\"}},\"id\":\"1625\",\"type\":\"Scatter\"},{\"attributes\":{\"fill_alpha\":{\"value\":0.2},\"fill_color\":{\"field\":\"color\",\"transform\":{\"id\":\"1620\"}},\"hatch_alpha\":{\"value\":0.2},\"hatch_color\":{\"field\":\"color\",\"transform\":{\"id\":\"1620\"}},\"line_alpha\":{\"value\":0.2},\"line_color\":{\"field\":\"color\",\"transform\":{\"id\":\"1620\"}},\"size\":{\"field\":\"size\"},\"x\":{\"field\":\"Lng\"},\"y\":{\"field\":\"Lat\"}},\"id\":\"1628\",\"type\":\"Scatter\"},{\"attributes\":{\"dimension\":\"lon\"},\"id\":\"1590\",\"type\":\"MercatorTickFormatter\"},{\"attributes\":{\"end\":15248427.873934321,\"min_interval\":5,\"reset_end\":15248427.873934321,\"reset_start\":-16054312.874310866,\"start\":-16054312.874310866,\"tags\":[[[\"Lat\",\"Lat\",null]]]},\"id\":\"1551\",\"type\":\"Range1d\"},{\"attributes\":{\"coordinates\":null,\"group\":null,\"text_color\":\"black\",\"text_font_size\":\"12pt\"},\"id\":\"1558\",\"type\":\"Title\"},{\"attributes\":{},\"id\":\"1564\",\"type\":\"LinearScale\"},{\"attributes\":{\"match_aspect\":true,\"overlay\":{\"id\":\"1579\"}},\"id\":\"1577\",\"type\":\"BoxZoomTool\"},{\"attributes\":{\"click_policy\":\"mute\",\"coordinates\":null,\"group\":null,\"items\":[{\"id\":\"1638\"}],\"location\":[0,0]},\"id\":\"1637\",\"type\":\"Legend\"},{\"attributes\":{\"below\":[{\"id\":\"1566\"}],\"center\":[{\"id\":\"1569\"},{\"id\":\"1573\"}],\"frame_height\":500,\"frame_width\":700,\"height\":null,\"left\":[{\"id\":\"1570\"}],\"margin\":[5,5,5,5],\"match_aspect\":true,\"min_border_bottom\":10,\"min_border_left\":10,\"min_border_right\":10,\"min_border_top\":10,\"renderers\":[{\"id\":\"1618\"},{\"id\":\"1629\"}],\"right\":[{\"id\":\"1637\"}],\"sizing_mode\":\"fixed\",\"title\":{\"id\":\"1558\"},\"toolbar\":{\"id\":\"1580\"},\"width\":null,\"x_range\":{\"id\":\"1550\"},\"x_scale\":{\"id\":\"1562\"},\"y_range\":{\"id\":\"1551\"},\"y_scale\":{\"id\":\"1564\"}},\"id\":\"1557\",\"subtype\":\"Figure\",\"type\":\"Plot\"},{\"attributes\":{\"source\":{\"id\":\"1621\"}},\"id\":\"1630\",\"type\":\"CDSView\"},{\"attributes\":{\"callback\":null,\"formatters\":{\"$x\":{\"id\":\"1639\"},\"$y\":{\"id\":\"1640\"}},\"renderers\":[{\"id\":\"1629\"}],\"tags\":[\"hv_created\"],\"tooltips\":[[\"Lng\",\"$x{custom}\"],[\"Lat\",\"$y{custom}\"],[\"City\",\"@{City}\"],[\"Max Temp\",\"@{Max_Temp}\"],[\"Country\",\"@{Country}\"],[\"Current Description\",\"@{Current_Description}\"]]},\"id\":\"1554\",\"type\":\"HoverTool\"},{\"attributes\":{},\"id\":\"1634\",\"type\":\"UnionRenderers\"},{\"attributes\":{\"coordinates\":null,\"group\":null,\"level\":\"glyph\",\"tile_source\":{\"id\":\"1615\"}},\"id\":\"1618\",\"type\":\"TileRenderer\"},{\"attributes\":{\"coordinates\":null,\"data_source\":{\"id\":\"1621\"},\"glyph\":{\"id\":\"1624\"},\"group\":null,\"hover_glyph\":{\"id\":\"1627\"},\"muted_glyph\":{\"id\":\"1628\"},\"nonselection_glyph\":{\"id\":\"1625\"},\"selection_glyph\":{\"id\":\"1626\"},\"view\":{\"id\":\"1630\"}},\"id\":\"1629\",\"type\":\"GlyphRenderer\"},{\"attributes\":{\"axis_label\":\"x\",\"coordinates\":null,\"formatter\":{\"id\":\"1590\"},\"group\":null,\"major_label_policy\":{\"id\":\"1595\"},\"ticker\":{\"id\":\"1589\"}},\"id\":\"1566\",\"type\":\"LinearAxis\"},{\"attributes\":{\"margin\":[5,5,5,5],\"name\":\"HSpacer02166\",\"sizing_mode\":\"stretch_width\"},\"id\":\"1545\",\"type\":\"Spacer\"}],\"root_ids\":[\"1544\"]},\"title\":\"Bokeh Application\",\"version\":\"2.4.3\"}};\n",
       "    var render_items = [{\"docid\":\"6af68902-38f1-4ad0-9e0b-97147ed87611\",\"root_ids\":[\"1544\"],\"roots\":{\"1544\":\"2b21da09-c9b9-4a88-a184-cdc60d9cc11e\"}}];\n",
       "    root.Bokeh.embed.embed_items_notebook(docs_json, render_items);\n",
       "    for (const render_item of render_items) {\n",
       "      for (const root_id of render_item.root_ids) {\n",
       "\tconst id_el = document.getElementById(root_id)\n",
       "\tif (id_el.children.length && (id_el.children[0].className === 'bk-root')) {\n",
       "\t  const root_el = id_el.children[0]\n",
       "\t  root_el.id = root_el.id + '-rendered'\n",
       "\t}\n",
       "      }\n",
       "    }\n",
       "  }\n",
       "  if (root.Bokeh !== undefined && root.Bokeh.Panel !== undefined) {\n",
       "    embed_document(root);\n",
       "  } else {\n",
       "    var attempts = 0;\n",
       "    var timer = setInterval(function(root) {\n",
       "      if (root.Bokeh !== undefined && root.Bokeh.Panel !== undefined) {\n",
       "        clearInterval(timer);\n",
       "        embed_document(root);\n",
       "      } else if (document.readyState == \"complete\") {\n",
       "        attempts++;\n",
       "        if (attempts > 200) {\n",
       "          clearInterval(timer);\n",
       "          console.log(\"Bokeh: ERROR: Unable to run BokehJS code because BokehJS library is missing\");\n",
       "        }\n",
       "      }\n",
       "    }, 25, root)\n",
       "  }\n",
       "})(window);</script>"
      ],
      "text/plain": [
       ":Overlay\n",
       "   .Tiles.I  :Tiles   [x,y]\n",
       "   .Points.I :Points   [Lng,Lat]   (City,Max Temp,Country,Current Description)"
      ]
     },
     "execution_count": 14,
     "metadata": {
      "application/vnd.holoviews_exec.v0+json": {
       "id": "1544"
      }
     },
     "output_type": "execute_result"
    }
   ],
   "source": [
    "# Configure the map plot\n",
    "\n",
    "hotel_map = clean_hotel_df.hvplot.points(\n",
    "    \"Lng\",\n",
    "    \"Lat\",\n",
    "    geo = True,\n",
    "    tiles = \"OSM\",\n",
    "    frame_width = 700,\n",
    "    frame_height = 500,\n",
    "    size = \"Max Temp\",\n",
    "    scale = 1,\n",
    "    color = \"City\",\n",
    "    alpha= 0.7,\n",
    "    \n",
    "    #by adding hover_cols, we can see the info associated with each city, \n",
    "    hover_cols = [\"City\",\"Country\",\"Current Description\"]\n",
    ")\n",
    "\n",
    "# Display the map\n",
    "hotel_map"
   ]
  },
  {
   "cell_type": "code",
   "execution_count": null,
   "metadata": {},
   "outputs": [],
   "source": []
  }
 ],
 "metadata": {
  "kernelspec": {
   "display_name": "PythonData",
   "language": "python",
   "name": "pythondata"
  },
  "language_info": {
   "codemirror_mode": {
    "name": "ipython",
    "version": 3
   },
   "file_extension": ".py",
   "mimetype": "text/x-python",
   "name": "python",
   "nbconvert_exporter": "python",
   "pygments_lexer": "ipython3",
   "version": "3.7.7"
  },
  "latex_envs": {
   "LaTeX_envs_menu_present": true,
   "autoclose": false,
   "autocomplete": true,
   "bibliofile": "biblio.bib",
   "cite_by": "apalike",
   "current_citInitial": 1,
   "eqLabelWithNumbers": true,
   "eqNumInitial": 1,
   "hotkeys": {
    "equation": "Ctrl-E",
    "itemize": "Ctrl-I"
   },
   "labels_anchors": false,
   "latex_user_defs": false,
   "report_style_numbering": false,
   "user_envs_cfg": false
  }
 },
 "nbformat": 4,
 "nbformat_minor": 4
}
